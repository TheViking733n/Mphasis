{
 "cells": [
  {
   "cell_type": "code",
   "execution_count": 19,
   "metadata": {},
   "outputs": [],
   "source": [
    "import sqlite3\n",
    "from sqlite3 import Error"
   ]
  },
  {
   "cell_type": "code",
   "execution_count": 20,
   "metadata": {},
   "outputs": [],
   "source": [
    "def get_connection(db_file):\n",
    "    \"\"\" create a database connection to a SQLite database \"\"\"\n",
    "    conn = None\n",
    "    try:\n",
    "        conn = sqlite3.connect(db_file)\n",
    "        print(\"Connection to SQLite DB successful\")\n",
    "    except Error as e:\n",
    "        print(f\"The error '{e}' occurred\")\n",
    "\n",
    "    return conn"
   ]
  },
  {
   "cell_type": "code",
   "execution_count": 21,
   "metadata": {},
   "outputs": [
    {
     "name": "stdout",
     "output_type": "stream",
     "text": [
      "Connection to SQLite DB successful\n"
     ]
    }
   ],
   "source": [
    "conn = get_connection(\"db.sqlite3\")\n",
    "cursor = conn.cursor()"
   ]
  },
  {
   "cell_type": "code",
   "execution_count": 22,
   "metadata": {},
   "outputs": [],
   "source": [
    "cursor.execute(\"DROP TABLE IF EXISTS Inventory\")\n",
    "cursor.execute(\"DROP TABLE IF EXISTS Schedule\")\n",
    "cursor.execute(\"DROP TABLE IF EXISTS PNR\")\n",
    "cursor.execute(\"DROP TABLE IF EXISTS Passenger\")\n",
    "conn.commit()"
   ]
  },
  {
   "cell_type": "code",
   "execution_count": 23,
   "metadata": {},
   "outputs": [],
   "source": [
    "cursor.execute(\"\"\"\n",
    "CREATE TABLE IF NOT EXISTS Inventory (\n",
    "    inventoryID CHAR(32) PRIMARY KEY,\n",
    "    scheduleID CHAR(32) NOT NULL,\n",
    "    departureDate DATE NOT NULL,\n",
    "    arrivalDate DATE NOT NULL,\n",
    "    totalCapacity INT,\n",
    "    totalInventory INT,\n",
    "    bookedInventory INT\n",
    ");\n",
    "\"\"\")\n",
    "conn.commit()"
   ]
  },
  {
   "cell_type": "code",
   "execution_count": 25,
   "metadata": {},
   "outputs": [],
   "source": [
    "cursor.execute(\"\"\"\n",
    "CREATE TABLE IF NOT EXISTS Schedule (\n",
    "    scheduleID CHAR(32) PRIMARY KEY,\n",
    "    flightNumber CHAR(32) NOT NULL,\n",
    "    departureAirport CHAR(3) NOT NULL,\n",
    "    arrivalAirport CHAR(3) NOT NULL,\n",
    "    departureTime TIME NOT NULL,\n",
    "    arrivalTime TIME NOT NULL,\n",
    "    startDate DATE NOT NULL,\n",
    "    endDate DATE NOT NULL,\n",
    "    status CHAR(32),\n",
    "    scheduleDays CHAR(7) NOT NULL\n",
    ");\n",
    "\"\"\")\n",
    "conn.commit()"
   ]
  },
  {
   "cell_type": "code",
   "execution_count": 26,
   "metadata": {},
   "outputs": [],
   "source": [
    "cursor.execute(\"\"\"\n",
    "CREATE TABLE IF NOT EXISTS PNR (\n",
    "    passengerID CHAR(32),\n",
    "    flightNumber INT NOT NULL,\n",
    "    departureDate DATE NOT NULL,\n",
    "    arrivalDate DATE NOT NULL,\n",
    "    departureTime TIME NOT NULL,\n",
    "    arrivalTime TIME NOT NULL,\n",
    "    paidOrBooked CHAR(2) NOT NULL,\n",
    "    cabinClass CHAR(1) NOT NULL\n",
    ");\"\"\")\n",
    "conn.commit()"
   ]
  },
  {
   "cell_type": "code",
   "execution_count": null,
   "metadata": {},
   "outputs": [],
   "source": []
  }
 ],
 "metadata": {
  "kernelspec": {
   "display_name": "Python 3",
   "language": "python",
   "name": "python3"
  },
  "language_info": {
   "codemirror_mode": {
    "name": "ipython",
    "version": 3
   },
   "file_extension": ".py",
   "mimetype": "text/x-python",
   "name": "python",
   "nbconvert_exporter": "python",
   "pygments_lexer": "ipython3",
   "version": "3.11.6"
  }
 },
 "nbformat": 4,
 "nbformat_minor": 2
}
