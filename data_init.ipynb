{
 "cells": [
  {
   "cell_type": "code",
   "execution_count": 1,
   "metadata": {},
   "outputs": [],
   "source": [
    "import requests, sqlite3\n",
    "from sqlite3 import Error"
   ]
  },
  {
   "cell_type": "code",
   "execution_count": 2,
   "metadata": {},
   "outputs": [],
   "source": [
    "inventory_sheet_url = 'https://docs.google.com/spreadsheets/d/1abfWjKouFxD_erzhdnam8tCtFC5G_956/edit#gid=2096778584'\n",
    "schedule_sheet_url = 'https://docs.google.com/spreadsheets/d/19jmopenGv7VnXOWeBmPpsicmCZycEfOl/edit#gid=2051886986'\n",
    "pnr_sheet_url = 'https://docs.google.com/spreadsheets/d/1E3Vnx5WA0ntOG42A_oyNI1VCNMn_UY6938mt9Mxz2gs/edit#gid=0'"
   ]
  },
  {
   "cell_type": "code",
   "execution_count": 3,
   "metadata": {},
   "outputs": [],
   "source": [
    "def get_connection(db_file):\n",
    "    \"\"\"Create a database connection to a SQLite database\"\"\"\n",
    "    conn = None\n",
    "    try:\n",
    "        conn = sqlite3.connect(db_file)\n",
    "        print(f\"Connection to the '{db_file}' SQLite database successful!\")\n",
    "    except Error as e:\n",
    "        print(f\"Something went wrong while connecting to the '{db_file}' SQLite database!\\nError: {e}\")\n",
    "\n",
    "    return conn"
   ]
  },
  {
   "cell_type": "code",
   "execution_count": 4,
   "metadata": {},
   "outputs": [],
   "source": [
    "def get_sheet_data(sheet_url):\n",
    "    \"\"\"Returns a 2-dimensional array of data from the given sheet\"\"\"\n",
    "    sheet_id = sheet_url.split('/')[5]\n",
    "    gid = sheet_url.split('/')[6].split('=')[1]\n",
    "    url = f\"https://docs.google.com/spreadsheets/d/{sheet_id}/export?format=tsv&gid={gid}\"\n",
    "    response = requests.get(url)\n",
    "    data = response.text\n",
    "    rows = data.split('\\n')\n",
    "    sheet_data = []\n",
    "    for row in rows:\n",
    "        sheet_data.append(row.split('\\t'))\n",
    "    return sheet_data"
   ]
  },
  {
   "cell_type": "code",
   "execution_count": 5,
   "metadata": {},
   "outputs": [],
   "source": [
    "def parse_date(date):\n",
    "    \"\"\"MM/DD/YYYY to YYYY-MM-DD\"\"\"\n",
    "    m, d, y = date.split('/')\n",
    "    return f\"{y}-{m}-{d}\"\n",
    "\n",
    "def parse_date_time(datetime):\n",
    "    \"\"\"MM/DD/YYYY HH:MM:SS to YYYY-MM-DD HH:MM:SS\"\"\"\n",
    "    date, time = datetime.split(' ')\n",
    "    return parse_date(date) + ' ' + time"
   ]
  },
  {
   "cell_type": "code",
   "execution_count": 17,
   "metadata": {},
   "outputs": [
    {
     "name": "stdout",
     "output_type": "stream",
     "text": [
      "Connection to the 'db.sqlite3' SQLite database successful!\n"
     ]
    }
   ],
   "source": [
    "conn = get_connection('db.sqlite3')\n",
    "cur = conn.cursor()"
   ]
  },
  {
   "cell_type": "code",
   "execution_count": 7,
   "metadata": {},
   "outputs": [],
   "source": [
    "inventory_data = get_sheet_data(inventory_sheet_url)"
   ]
  },
  {
   "cell_type": "code",
   "execution_count": 18,
   "metadata": {},
   "outputs": [],
   "source": [
    "for row in inventory_data[1:]:\n",
    "    inventory_id = row[0]\n",
    "    schedule_id = row[1]\n",
    "    flight_number = row[2]\n",
    "    aircraft_type = row[3]\n",
    "    departure_date = parse_date(row[4])\n",
    "    arrival_date = parse_date(row[5])\n",
    "    total_capacity = row[8]\n",
    "    total_inventory = row[9]\n",
    "    booked_inventory = row[10]\n",
    "    \n",
    "    cur.execute(\n",
    "        f\"\"\"\n",
    "        INSERT INTO inventory VALUES (\n",
    "            '{inventory_id}',\n",
    "            '{schedule_id}',\n",
    "            '{flight_number}',\n",
    "            '{aircraft_type}',\n",
    "            '{departure_date}',\n",
    "            '{arrival_date}',\n",
    "            {total_capacity},\n",
    "            {total_inventory},\n",
    "            {booked_inventory}\n",
    "        );\n",
    "        \"\"\"\n",
    "    )\n",
    "    conn.commit()"
   ]
  },
  {
   "cell_type": "code",
   "execution_count": 10,
   "metadata": {},
   "outputs": [],
   "source": [
    "schedule_data = get_sheet_data(schedule_sheet_url)"
   ]
  },
  {
   "cell_type": "code",
   "execution_count": 19,
   "metadata": {},
   "outputs": [],
   "source": [
    "for row in schedule_data[1:]:\n",
    "    schedule_id = row[0]\n",
    "    flight_number = row[2]\n",
    "    aircraft_type = row[3]\n",
    "    aircraft_tail_number = row[4]\n",
    "    departure_airport = row[5]\n",
    "    arrival_airport = row[6]\n",
    "    departure_time = row[7]\n",
    "    arrival_time = row[8]\n",
    "    start_date = row[9]\n",
    "    end_date = row[10]\n",
    "    status = row[11]\n",
    "    schedule_frequency = ''.join(row[12:19])\n",
    "    \n",
    "    cur.execute(\n",
    "        f\"\"\"\n",
    "        INSERT INTO Schedule VALUES (\n",
    "            '{schedule_id}',\n",
    "            '{flight_number}',\n",
    "            '{aircraft_type}',\n",
    "            '{aircraft_tail_number}',\n",
    "            '{departure_airport}',\n",
    "            '{arrival_airport}',\n",
    "            '{departure_time}',\n",
    "            '{arrival_time}',\n",
    "            '{start_date}',\n",
    "            '{end_date}',\n",
    "            '{status}',\n",
    "            '{schedule_frequency}'\n",
    "        );\n",
    "        \"\"\"\n",
    "    )\n",
    "    conn.commit()"
   ]
  },
  {
   "cell_type": "code",
   "execution_count": 12,
   "metadata": {},
   "outputs": [],
   "source": [
    "pnr_data = get_sheet_data(pnr_sheet_url)"
   ]
  },
  {
   "cell_type": "code",
   "execution_count": 20,
   "metadata": {},
   "outputs": [],
   "source": [
    "for row in pnr_data[1:]:\n",
    "    passenger_id = row[0]\n",
    "    flight_number = row[1]\n",
    "    departure_date = parse_date(row[2])\n",
    "    arrival_date = parse_date(row[3])\n",
    "    departure_time = row[4]\n",
    "    arrival_time = row[5]\n",
    "    is_paid = row[6]\n",
    "    cabin_class = row[7]\n",
    "    \n",
    "    cur.execute(\n",
    "        f\"\"\"\n",
    "        INSERT INTO PNR VALUES (\n",
    "            '{passenger_id}',\n",
    "            '{flight_number}',\n",
    "            '{departure_date}',\n",
    "            '{arrival_date}',\n",
    "            '{departure_time}',\n",
    "            '{arrival_time}',\n",
    "            '{is_paid}',\n",
    "            '{cabin_class}'\n",
    "        );\n",
    "        \"\"\"\n",
    "    )\n",
    "    conn.commit()"
   ]
  },
  {
   "cell_type": "code",
   "execution_count": 30,
   "metadata": {},
   "outputs": [],
   "source": []
  }
 ],
 "metadata": {
  "kernelspec": {
   "display_name": "Python 3 (ipykernel)",
   "language": "python",
   "name": "python3"
  },
  "language_info": {
   "codemirror_mode": {
    "name": "ipython",
    "version": 3
   },
   "file_extension": ".py",
   "mimetype": "text/x-python",
   "name": "python",
   "nbconvert_exporter": "python",
   "pygments_lexer": "ipython3",
   "version": "3.11.0"
  }
 },
 "nbformat": 4,
 "nbformat_minor": 2
}
