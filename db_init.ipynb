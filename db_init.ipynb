{
 "cells": [
  {
   "cell_type": "code",
   "execution_count": 4,
   "metadata": {},
   "outputs": [],
   "source": [
    "import sqlite3\n",
    "from sqlite3 import Error"
   ]
  },
  {
   "cell_type": "code",
   "execution_count": 5,
   "metadata": {},
   "outputs": [],
   "source": [
    "def get_connection(db_file):\n",
    "    \"\"\"Create a database connection to a SQLite database\"\"\"\n",
    "    conn = None\n",
    "    try:\n",
    "        conn = sqlite3.connect(db_file)\n",
    "        print(f\"Connection to the '{db_file}' SQLite database successful!\")\n",
    "    except Error as e:\n",
    "        print(f\"Something went wrong while connecting to the '{db_file}' SQLite database!\\nError: {e}\")\n",
    "\n",
    "    return conn"
   ]
  },
  {
   "cell_type": "code",
   "execution_count": 6,
   "metadata": {},
   "outputs": [
    {
     "name": "stdout",
     "output_type": "stream",
     "text": [
      "Connection to the 'db.sqlite3' SQLite database successful!\n"
     ]
    }
   ],
   "source": [
    "conn = get_connection(\"db.sqlite3\")\n",
    "cursor = conn.cursor()"
   ]
  },
  {
   "cell_type": "code",
   "execution_count": 19,
   "metadata": {},
   "outputs": [],
   "source": [
    "cursor.execute(\"\"\"DROP TABLE IF EXISTS inventory\"\"\")\n",
    "cursor.execute(\"\"\"DROP TABLE IF EXISTS schedule\"\"\")\n",
    "cursor.execute(\"\"\"DROP TABLE IF EXISTS pnr\"\"\")\n",
    "cursor.execute(\"\"\"DROP TABLE IF EXISTS passenger\"\"\")\n",
    "conn.commit()"
   ]
  },
  {
   "cell_type": "code",
   "execution_count": 20,
   "metadata": {},
   "outputs": [],
   "source": [
    "cursor.execute(\n",
    "    \"\"\"\n",
    "    CREATE TABLE IF NOT EXISTS inventory (\n",
    "        inventory_id CHAR(32) PRIMARY KEY,\n",
    "        schedule_id CHAR(32) NOT NULL,\n",
    "        flight_number CHAR(4) NOT NULL,\n",
    "        aircraft_type VARCHAR(32) NOT NULL,\n",
    "        departure_date DATE NOT NULL,\n",
    "        arrival_date DATE NOT NULL,\n",
    "        total_capacity INT NOT NULL,\n",
    "        total_inventory INT NOT NULL,\n",
    "        booked_inventory INT NOT NULL\n",
    "    );\n",
    "    \"\"\"\n",
    ")\n",
    "conn.commit()"
   ]
  },
  {
   "cell_type": "code",
   "execution_count": 22,
   "metadata": {},
   "outputs": [],
   "source": [
    "cursor.execute(\n",
    "    \"\"\"\n",
    "    CREATE TABLE IF NOT EXISTS schedule (\n",
    "        schedule_id CHAR(32) PRIMARY KEY,\n",
    "        flight_number CHAR(32) NOT NULL,\n",
    "        aircraft_type VARCHAR(32) NOT NULL,\n",
    "        aircraft_tail_number CHAR (7) NOT NULL,\n",
    "        departure_airport CHAR(3) NOT NULL,\n",
    "        arrival_airport CHAR(3) NOT NULL,\n",
    "        departure_time TIME NOT NULL,\n",
    "        arrival_time TIME NOT NULL,\n",
    "        start_date DATE NOT NULL,\n",
    "        end_date DATE NOT NULL,\n",
    "        status CHAR(32) NOT NULL,\n",
    "        schedule_frequency CHAR(7) NOT NULL\n",
    "    );\n",
    "    \"\"\"\n",
    ")\n",
    "conn.commit()"
   ]
  },
  {
   "cell_type": "code",
   "execution_count": 23,
   "metadata": {},
   "outputs": [],
   "source": [
    "cursor.execute(\n",
    "    \"\"\"\n",
    "    CREATE TABLE IF NOT EXISTS pnr (\n",
    "        passenger_id CHAR(32),\n",
    "        flight_number INT NOT NULL,\n",
    "        departure_date DATE NOT NULL,\n",
    "        arrival_date DATE NOT NULL,\n",
    "        departure_time TIME NOT NULL,\n",
    "        arrival_time TIME NOT NULL,\n",
    "        is_paid CHAR(2) NOT NULL,\n",
    "        cabin_class CHAR(1) NOT NULL\n",
    "    );\n",
    "    \"\"\"\n",
    ")\n",
    "conn.commit()"
   ]
  },
  {
   "cell_type": "code",
   "execution_count": 25,
   "metadata": {},
   "outputs": [],
   "source": [
    "cursor.execute(\n",
    "    \"\"\"\n",
    "    CREATE TABLE IF NOT EXISTS passenger (\n",
    "        passenger_id CHAR(32)\n",
    "    )\n",
    "    \"\"\"\n",
    ")\n",
    "conn.commit()"
   ]
  },
  {
   "cell_type": "code",
   "execution_count": null,
   "metadata": {},
   "outputs": [],
   "source": []
  }
 ],
 "metadata": {
  "kernelspec": {
   "display_name": "Python 3 (ipykernel)",
   "language": "python",
   "name": "python3"
  },
  "language_info": {
   "codemirror_mode": {
    "name": "ipython",
    "version": 3
   },
   "file_extension": ".py",
   "mimetype": "text/x-python",
   "name": "python",
   "nbconvert_exporter": "python",
   "pygments_lexer": "ipython3",
   "version": "3.10.5"
  }
 },
 "nbformat": 4,
 "nbformat_minor": 2
}
