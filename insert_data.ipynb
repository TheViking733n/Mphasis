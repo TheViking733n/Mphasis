{
 "cells": [
  {
   "cell_type": "code",
   "execution_count": 15,
   "metadata": {},
   "outputs": [],
   "source": [
    "import sqlite3\n",
    "from sqlite3 import Error\n",
    "import requests"
   ]
  },
  {
   "cell_type": "code",
   "execution_count": 4,
   "metadata": {},
   "outputs": [],
   "source": [
    "inventory_sheet_url = 'https://docs.google.com/spreadsheets/d/1abfWjKouFxD_erzhdnam8tCtFC5G_956/edit#gid=2096778584'"
   ]
  },
  {
   "cell_type": "code",
   "execution_count": 3,
   "metadata": {},
   "outputs": [],
   "source": [
    "def get_connection(db_file):\n",
    "    \"\"\" create a database connection to a SQLite database \"\"\"\n",
    "    conn = None\n",
    "    try:\n",
    "        conn = sqlite3.connect(db_file)\n",
    "        print(\"Connection to SQLite DB successful\")\n",
    "    except Error as e:\n",
    "        print(f\"The error '{e}' occurred\")\n",
    "\n",
    "    return conn"
   ]
  },
  {
   "cell_type": "code",
   "execution_count": 9,
   "metadata": {},
   "outputs": [],
   "source": [
    "def get_sheet_data(sheet_url):\n",
    "    \"\"\"Returns 2d array of sheet data\"\"\"\n",
    "    sheet_id = sheet_url.split('/')[5]\n",
    "    gid = sheet_url.split('/')[6].split('=')[1]\n",
    "    url = f\"https://docs.google.com/spreadsheets/d/{sheet_id}/export?format=tsv&gid={gid}\"\n",
    "    response = requests.get(url)\n",
    "    data = response.text\n",
    "    rows = data.split('\\n')\n",
    "    sheet_data = []\n",
    "    for row in rows:\n",
    "        sheet_data.append(row.split('\\t'))\n",
    "    return sheet_data"
   ]
  },
  {
   "cell_type": "code",
   "execution_count": 17,
   "metadata": {},
   "outputs": [],
   "source": [
    "def parseDate(date):\n",
    "    \"\"\"MM/DD/YYYY to YYYY-MM-DD\"\"\"\n",
    "    m, d, y = date.split('/')\n",
    "    return f\"{y}-{m}-{d}\""
   ]
  },
  {
   "cell_type": "code",
   "execution_count": 10,
   "metadata": {},
   "outputs": [],
   "source": [
    "inv = get_sheet_data(inventory_sheet_url)\n"
   ]
  },
  {
   "cell_type": "code",
   "execution_count": 16,
   "metadata": {},
   "outputs": [
    {
     "name": "stdout",
     "output_type": "stream",
     "text": [
      "Connection to SQLite DB successful\n"
     ]
    }
   ],
   "source": [
    "conn = get_connection('db.sqlite3')\n",
    "cur = conn.cursor()"
   ]
  },
  {
   "cell_type": "code",
   "execution_count": 18,
   "metadata": {},
   "outputs": [],
   "source": [
    "for row in inv[1:]:\n",
    "    inventoryID = row[0]\n",
    "    scheduleID = row[1]\n",
    "    departureDate = parseDate(row[4])\n",
    "    arrivalDate = parseDate(row[5])\n",
    "    totalCapacity = row[8]\n",
    "    totalInventory = row[9]\n",
    "    bookedInventory = row[10]\n",
    "    cur.execute(f\"\"\"\n",
    "        INSERT INTO Inventory VALUES (\n",
    "            '{inventoryID}',\n",
    "            '{scheduleID}',\n",
    "            '{departureDate}',\n",
    "            '{arrivalDate}',\n",
    "            {totalCapacity},\n",
    "            {totalInventory},\n",
    "            {bookedInventory}\n",
    "        );\n",
    "    \"\"\")\n",
    "    conn.commit()\n"
   ]
  },
  {
   "cell_type": "code",
   "execution_count": null,
   "metadata": {},
   "outputs": [],
   "source": []
  }
 ],
 "metadata": {
  "kernelspec": {
   "display_name": "Python 3",
   "language": "python",
   "name": "python3"
  },
  "language_info": {
   "codemirror_mode": {
    "name": "ipython",
    "version": 3
   },
   "file_extension": ".py",
   "mimetype": "text/x-python",
   "name": "python",
   "nbconvert_exporter": "python",
   "pygments_lexer": "ipython3",
   "version": "3.11.6"
  }
 },
 "nbformat": 4,
 "nbformat_minor": 2
}
